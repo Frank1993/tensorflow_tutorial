{
 "cells": [
  {
   "cell_type": "code",
   "execution_count": 1,
   "metadata": {
    "collapsed": true
   },
   "outputs": [],
   "source": [
    "import numpy as np\n",
    "import tensorflow as tf\n",
    "from matplotlib import pyplot as plt\n",
    "\n",
    "% matplotlib inline"
   ]
  },
  {
   "cell_type": "markdown",
   "metadata": {},
   "source": [
    "# tensorflow\n",
    "\n",
    "## tensorflow .vs numpy"
   ]
  },
  {
   "cell_type": "markdown",
   "metadata": {},
   "source": [
    "tensorflow 顾名思义是处理tensor的框架，所谓tensor可以看成是多维数组，类似于numpy中的ndarray。\n",
    "\n",
    "tensorflow并不是一个专用的用于深度学习的框架，其与numpy一样提供了一些列的函数用于处理tensor(ndarray),所以应该将其视为一个能够处理ndarray的科学计算框架。\n",
    "\n",
    "那么tensorflow与numpy相比有哪些优势呢？\n",
    "\n",
    "1. 提供了自动求导功能\n",
    "2. 可以利用GPU来加快计算\n",
    "\n",
    "\n",
    "> tensorflow = numpy + Auto Derivation + GPU\n",
    "\n"
   ]
  },
  {
   "cell_type": "markdown",
   "metadata": {},
   "source": [
    "我们可以比较一下numpy和tensorflow如何进行科学计算\n",
    "### numpy\n",
    "<img src = \"numpy_example.png\">"
   ]
  },
  {
   "cell_type": "markdown",
   "metadata": {},
   "source": [
    "### tensorflow\n",
    "\n",
    "<img src = \"tensorflow_example.png\">"
   ]
  },
  {
   "cell_type": "markdown",
   "metadata": {},
   "source": [
    "### numpy 与 tensorflow的操作比较\n",
    "\n",
    "<img src = \"numpy_tensorflow_comparision.png\">"
   ]
  },
  {
   "cell_type": "markdown",
   "metadata": {},
   "source": [
    "## tensorflow 环境模型\n",
    "\n",
    "### Graph\n",
    "\n",
    "tensorflow 是用来对tensor进行计算的框架，其提供了一些列能够对tensor进行处理的函数，同时其提供了自动求导功能。这是由于tensorflow主要的设计目的还是在于提供深度学习功能，而反向传播算法是深度学习中必不可少地优化损失函数的算法，因此需要利用自动求导。\n",
    "\n",
    "因为要在不同的layer之间进行反向传播，所以所有的layer和操作被组合成一个graph是最直观和通用的表示。\n",
    "\n",
    "tensorflow与numpy的不同之处在于，numpy对每一步操作进行求值并将这些值储存在内存中，而tensorflow并不求值，而是将所有的操作组合成一个graph，留下输入和输出的接口。在搭建好graph之后，传入输入值，然后对整个graph进行求值，并获取graph的输出。\n",
    "\n",
    "一般我们只使用默认的Graph，我们在没有新建一个新的Graph对象的时候，所有的操作都会被加到这个默认的Graph上。我们可以通过tf.get_default_graph()函数来获取默认Graph对象。\n",
    "\n",
    "```python\n",
    "c = tf.constant(4.0)\n",
    "assert c.graph is tf.get_default_graph()\n",
    "```\n",
    "\n",
    "我们也可以创建一个新的Graph\n",
    "\n",
    "```python\n",
    "g = tf.Graph()\n",
    "with g.as_default():\n",
    "  # Define operations and tensors in `g`.\n",
    "  c = tf.constant(30.0)\n",
    "  assert c.graph is g\n",
    "```"
   ]
  },
  {
   "cell_type": "markdown",
   "metadata": {},
   "source": [
    "### Session\n",
    "\n",
    "tensorflow需要先确定好整个计算模型的graph，然后对整个graph进行求值。而求值需要在一个Session中进行。 可以将tensorflow类比成Java编程语言，构建graph阶段相当于与这java写好了一段代码，Session就相当于一个java虚拟机，graph必须在Session中才能运行。\n",
    "\n",
    "```python\n",
    "# Build a graph.\n",
    "a = tf.constant(5.0)\n",
    "b = tf.constant(6.0)\n",
    "c = a * b\n",
    "\n",
    "# Launch the graph in a session.\n",
    "sess = tf.Session()\n",
    "\n",
    "# Evaluate the tensor `c`.\n",
    "print(sess.run(c))\n",
    "```\n",
    "\n",
    "一个session用于对Graph中的Operation进行求值，但是当计算完成之后，需要释放掉这个session，不过我们可以通过with关键字来实现一个session的scope，在运行完该scope中的操作后自动释放掉这个session\n",
    "\n",
    "```python\n",
    "with tf.Session() as sess:\n",
    "    sess.run(c)\n",
    "```\n"
   ]
  },
  {
   "cell_type": "markdown",
   "metadata": {},
   "source": [
    "### Constant & Variable \n",
    "\n",
    "既然tensorflow相当于一门语言，那么这门语言应该能够处理常量和变量。"
   ]
  },
  {
   "cell_type": "markdown",
   "metadata": {},
   "source": [
    "#### Constant\n",
    "\n",
    "tensorflow提供了一些方法用于创建常量，比如zeros，ones等，但最为通用的还是tf.constant方法\n",
    "\n",
    "```python\n",
    "tf.constant(value, dtype=None, shape=None, name='Const')\n",
    "```\n",
    "\n",
    "> value 可以是标量或者多维数组，其dtype和shape是任意的。一旦传入value，这个constant的dtype和shape就和value的dtype和value相同\n",
    "\n",
    "> 也可以直接指定shape的大小，然后整个constant会利用value的最后一个值进行填充(如果value是一个数组)值进行填充\n"
   ]
  },
  {
   "cell_type": "code",
   "execution_count": 2,
   "metadata": {
    "collapsed": false
   },
   "outputs": [
    {
     "name": "stdout",
     "output_type": "stream",
     "text": [
      "[[1 2 3 4 5 6 7]\n",
      " [1 2 3 4 5 6 8]\n",
      " [8 8 8 8 8 8 8]\n",
      " [8 8 8 8 8 8 8]]\n"
     ]
    }
   ],
   "source": [
    "tensor = tf.constant([[1, 2, 3, 4, 5, 6, 7],[1, 2, 3, 4, 5, 6, 8]],shape = (4,7))\n",
    "with tf.Session() as sess:\n",
    "    print sess.run(tensor)"
   ]
  },
  {
   "cell_type": "code",
   "execution_count": 3,
   "metadata": {
    "collapsed": false
   },
   "outputs": [
    {
     "name": "stdout",
     "output_type": "stream",
     "text": [
      "[[ 1.20000005  1.20000005]\n",
      " [ 1.20000005  1.20000005]]\n"
     ]
    }
   ],
   "source": [
    "tensor = tf.constant(1.2,shape = (2,2))\n",
    "with tf.Session() as sess:\n",
    "    print sess.run(tensor)"
   ]
  },
  {
   "cell_type": "markdown",
   "metadata": {},
   "source": [
    "#### Variable\n",
    "\n",
    "常量可以直接申明，而变量用于储存状态，必须在session中进行计算前初始化。\n",
    "\n",
    "> tf.initialize_all_variables()用于初始化，但是一定要记住这是一个operation，这个operation需要在一个sess中执行\n",
    "\n",
    "Variable()的构造函数要求必须传入一个初始值，这个初始值可以是一个任意type和shape的tensor。一旦传入一个初始值，这个Variable的type和shape就被固定下来了。要改变一个Variable的值，需要使用assign方法。\n",
    "\n",
    "如果你要想在之后可以改变这个Variable的shape，你需要将Variable() 构造函数中的validate_shape赋值为False。如果validate_shape为True,那么initial_value的shape必须是知道的。"
   ]
  },
  {
   "cell_type": "code",
   "execution_count": 4,
   "metadata": {
    "collapsed": false
   },
   "outputs": [
    {
     "name": "stdout",
     "output_type": "stream",
     "text": [
      "[[1 1]\n",
      " [1 1]]\n"
     ]
    }
   ],
   "source": [
    "var = tf.Variable(tf.constant(1,shape = (2,2)))\n",
    "with tf.Session() as sess:\n",
    "    sess.run(tf.initialize_all_variables())   # 注意这里初始化函数也要在sess中执行\n",
    "    print sess.run(var)"
   ]
  },
  {
   "cell_type": "markdown",
   "metadata": {},
   "source": [
    "<img src = \"Variable.png\">"
   ]
  },
  {
   "cell_type": "markdown",
   "metadata": {},
   "source": [
    "### Placeholder\n",
    "为了使得我们训练出来的模型更为通用，我们并不限制输入的数据，而只是指定输入的dtype和shape（当然更进一步通用也可以不指定）。Placeholder 就为我们提供了这样一种方法，将整个graph考虑成一个编程语言的函数，那么placeholder就是这个函数的参数。\n",
    "\n",
    "```python\n",
    "tf.placeholder(dtype, shape=None, name=None)\n",
    "```\n",
    "\n",
    "> Important: This tensor will produce an error if evaluated. Its value must be fed using the feed_dict optional argument to Session.run(), Tensor.eval(), or Operation.run().\n",
    "\n",
    "> shape可以不指定，如果没有指定可以传入任何大小的tensor\n",
    "\n",
    "```python\n",
    "x = tf.placeholder(tf.float32, shape=(1024, 1024))\n",
    "y = tf.matmul(x, x)\n",
    "\n",
    "with tf.Session() as sess:\n",
    "  print(sess.run(y))  # ERROR: will fail because x was not fed.\n",
    "\n",
    "  rand_array = np.random.rand(1024, 1024)\n",
    "  print(sess.run(y, feed_dict={x: rand_array}))  # Will succeed.\n",
    "```"
   ]
  },
  {
   "cell_type": "markdown",
   "metadata": {
    "collapsed": true
   },
   "source": [
    "------------------"
   ]
  },
  {
   "cell_type": "markdown",
   "metadata": {},
   "source": [
    "## Example - linear regression\n",
    "\n",
    "我们可以通过一个简单的线性回归的例子来将tensorflow的基本操作梳理一遍"
   ]
  },
  {
   "cell_type": "code",
   "execution_count": 31,
   "metadata": {
    "collapsed": true
   },
   "outputs": [],
   "source": [
    "# y是一条关于x的直线，不过在每一处加上了一些正弦波动\n",
    "X = np.arange(0,100,0.1)\n",
    "y = X + 6*np.sin(X/10)"
   ]
  },
  {
   "cell_type": "code",
   "execution_count": 32,
   "metadata": {
    "collapsed": false,
    "scrolled": false
   },
   "outputs": [
    {
     "data": {
      "text/plain": [
       "[<matplotlib.lines.Line2D at 0x112960d10>]"
      ]
     },
     "execution_count": 32,
     "metadata": {},
     "output_type": "execute_result"
    },
    {
     "data": {
      "image/png": "[encoded data removed]",
      "text/plain": [
       "<matplotlib.figure.Figure at 0x112890350>"
      ]
     },
     "metadata": {},
     "output_type": "display_data"
    }
   ],
   "source": [
    "plt.plot(X,y)"
   ]
  },
  {
   "cell_type": "code",
   "execution_count": 33,
   "metadata": {
    "collapsed": false
   },
   "outputs": [],
   "source": [
    "# X,y使我们的训练数据，共有1000条，我们可以利用batch，每个batch100个数据\n",
    "n_samples = 1000\n",
    "batch_size = 100\n",
    "\n",
    "\n",
    "# 因为tensorflow对于数据的shape非常严格，所以进行初步的转化\n",
    "X = np.reshape(X,(n_samples,1))\n",
    "y = np.reshape(y,(n_samples,1))\n",
    "\n",
    "X_train = tf.placeholder(tf.float32,(batch_size,1))\n",
    "y_train = tf.placeholder(tf.float32,(batch_size,1))\n",
    "\n",
    "W = tf.Variable(tf.random_normal((1,1)),name = \"W\")\n",
    "b = tf.Variable(tf.zeros((1,)),name = \"b\")\n",
    "\n",
    "y_pre = tf.mul(X_train,W) + b\n",
    "\n",
    "loss = tf.reduce_mean(tf.square(y_pre-y_train))\n",
    "\n",
    "optimizer = tf.train.AdamOptimizer()\n",
    "\n",
    "opt_opearation = optimizer.minimize(loss)\n",
    "\n",
    "\n"
   ]
  },
  {
   "cell_type": "code",
   "execution_count": 42,
   "metadata": {
    "collapsed": false
   },
   "outputs": [],
   "source": [
    "losses = []\n",
    "\n",
    "with tf.Session() as sess:\n",
    "    sess.run(tf.initialize_all_variables())\n",
    "    for _ in range(2000):\n",
    "        indices = np.random.choice(n_samples,batch_size)\n",
    "        X_ = X[indices]\n",
    "        y_ = y[indices]\n",
    "        \n",
    "        _, loss_val =sess.run([opt_opearation,loss],feed_dict = {X_train:X_,y_train:y_})\n",
    "        losses.append(loss_val)\n",
    "        \n",
    "        W_pre = sess.run(W)\n",
    "        b_pre = sess.run(b)\n",
    "        "
   ]
  },
  {
   "cell_type": "code",
   "execution_count": 43,
   "metadata": {
    "collapsed": false,
    "scrolled": false
   },
   "outputs": [
    {
     "data": {
      "text/plain": [
       "[<matplotlib.lines.Line2D at 0x113189b90>]"
      ]
     },
     "execution_count": 43,
     "metadata": {},
     "output_type": "execute_result"
    },
    {
     "data": {
      "image/png": "[encoded data removed]",
      "text/plain": [
       "<matplotlib.figure.Figure at 0x112b39850>"
      ]
     },
     "metadata": {},
     "output_type": "display_data"
    }
   ],
   "source": [
    "plt.plot(range(2000),losses)"
   ]
  },
  {
   "cell_type": "code",
   "execution_count": 44,
   "metadata": {
    "collapsed": false
   },
   "outputs": [
    {
     "data": {
      "text/plain": [
       "[<matplotlib.lines.Line2D at 0x1130965d0>,\n",
       " <matplotlib.lines.Line2D at 0x113096790>]"
      ]
     },
     "execution_count": 44,
     "metadata": {},
     "output_type": "execute_result"
    },
    {
     "data": {
      "image/png": "[encoded data removed]",
      "text/plain": [
       "<matplotlib.figure.Figure at 0x112ec5690>"
      ]
     },
     "metadata": {},
     "output_type": "display_data"
    }
   ],
   "source": [
    "y_predict = X*W_pre + b_pre\n",
    "\n",
    "plt.plot(X,y_predict,X,y)"
   ]
  },
  {
   "cell_type": "code",
   "execution_count": null,
   "metadata": {
    "collapsed": true
   },
   "outputs": [],
   "source": []
  }
 ],
 "metadata": {
  "kernelspec": {
   "display_name": "Python 2",
   "language": "python",
   "name": "python2"
  },
  "language_info": {
   "codemirror_mode": {
    "name": "ipython",
    "version": 2
   },
   "file_extension": ".py",
   "mimetype": "text/x-python",
   "name": "python",
   "nbconvert_exporter": "python",
   "pygments_lexer": "ipython2",
   "version": "2.7.10"
  }
 },
 "nbformat": 4,
 "nbformat_minor": 0
}
