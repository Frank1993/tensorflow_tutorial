{
 "cells": [
  {
   "cell_type": "markdown",
   "metadata": {},
   "source": [
    "# tf.SparseTensor\n",
    "\n",
    "tensorflow 提供了较为完善的稀疏矩阵的表示和操作，详见https://www.tensorflow.org/api_guides/python/sparse_ops\n",
    "\n",
    "另外参考：\n",
    "http://planspace.org/20170427-sparse_tensors_and_tfrecords/\n",
    "https://www.tensorflow.org/api_docs/python/tf/SparseFeature"
   ]
  }
 ],
 "metadata": {
  "kernelspec": {
   "display_name": "Python 3",
   "language": "python",
   "name": "python3"
  },
  "language_info": {
   "codemirror_mode": {
    "name": "ipython",
    "version": 3
   },
   "file_extension": ".py",
   "mimetype": "text/x-python",
   "name": "python",
   "nbconvert_exporter": "python",
   "pygments_lexer": "ipython3",
   "version": "3.6.1"
  }
 },
 "nbformat": 4,
 "nbformat_minor": 2
}
