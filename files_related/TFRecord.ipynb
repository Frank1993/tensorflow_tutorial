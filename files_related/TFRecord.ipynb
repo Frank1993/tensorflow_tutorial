{
 "cells": [
  {
   "cell_type": "code",
   "execution_count": 1,
   "metadata": {
    "collapsed": true
   },
   "outputs": [],
   "source": [
    "import tensorflow as tf\n",
    "import numpy as np\n",
    "from matplotlib import pyplot as plt\n",
    "% matplotlib inline"
   ]
  },
  {
   "cell_type": "markdown",
   "metadata": {},
   "source": [
    "# What's TFRecord\n",
    "\n",
    "TFRecord是tensorflow所使用的一种二进制文件格式。二进制文件的优点在于可以带有一些头部信息，让tensorflow可以知道整个文件的结构，快速地读取数据。\n",
    "\n",
    "TFRecord将数据组织成Example，每个Example表示一条记录。每个Example由tf.train.Feature组成，多个feature被表示成tf.train.Features.\n",
    "\n",
    "tf.train.Feature可以储存三种不同类型的数据： bytes,float,int64\n",
    "\n",
    "但是有些Feature是数组形式的，比如一张图片，为了简化和抽象，tf.train.Feature的三种格式都需要以列表的形式储存：bytes_list,float_list和int64_list。对于scalar类型的数据和高维数据都需要转换成为列表形式，即1维数据。\n",
    "\n",
    "\n"
   ]
  },
  {
   "cell_type": "markdown",
   "metadata": {},
   "source": [
    "假设我们有一张大小为2*2的图片，[[1.0,2.0],[3.0,4.0]],这张图片的label是4，我们尝试将这张图片写入TFRecord中\n",
    "我们首先要将图片变成1维的列表，实际上我们有两种方式，\n",
    " 1.保存图片的float值\n",
    " 2.将图片转换成bytes"
   ]
  },
  {
   "cell_type": "code",
   "execution_count": 3,
   "metadata": {
    "collapsed": true
   },
   "outputs": [],
   "source": [
    "image = np.array([[1.0,2.0],[3.0,4.0]])\n",
    "image_float = image.flatten()\n",
    "\n",
    "image_bytes = image.tobytes()"
   ]
  },
  {
   "cell_type": "code",
   "execution_count": 4,
   "metadata": {},
   "outputs": [],
   "source": [
    "tfrecord_bytes_filename = \"test_bytes.tfrecord\"\n",
    "writer = tf.python_io.TFRecordWriter(tfrecord_bytes_filename)\n",
    "\n",
    "my_example = tf.train.Example(features=tf.train.Features(feature={\n",
    "    'label': tf.train.Feature(int64_list=tf.train.Int64List(value=[4])),\n",
    "    'image': tf.train.Feature(bytes_list=tf.train.BytesList(value=[image_bytes]))\n",
    "}))\n",
    "writer.write(my_example.SerializeToString())\n",
    "writer.close()"
   ]
  },
  {
   "cell_type": "code",
   "execution_count": 5,
   "metadata": {},
   "outputs": [],
   "source": [
    "tfrecord_float_filename = \"test_float.tfrecord\"\n",
    "writer = tf.python_io.TFRecordWriter(tfrecord_float_filename)\n",
    "\n",
    "my_example = tf.train.Example(features=tf.train.Features(feature={\n",
    "    'label': tf.train.Feature(int64_list=tf.train.Int64List(value=[4])),\n",
    "    'image': tf.train.Feature(float_list =tf.train.FloatList(value=image_float))\n",
    "}))\n",
    "writer.write(my_example.SerializeToString())\n",
    "writer.close()"
   ]
  },
  {
   "cell_type": "markdown",
   "metadata": {},
   "source": [
    "# Read TFRecord\n",
    "\n",
    "读取TFRecord的时候需要使用tf.TFRecordReader来读取TFRecord文件，但是对于每个example需要使用parse_single_example函数来对二进制数据进行解析，将二进制重新转换为int64,float以及bytes等格式。parse_single_example函数需要传入一个shape参数，表明将解析出来的数据list进行reshape。\n",
    "\n",
    "其中，[]表示标量，[5]表示长度为5的数组，[28,28,3]表示对应大小的3维数组。"
   ]
  },
  {
   "cell_type": "code",
   "execution_count": 6,
   "metadata": {
    "collapsed": true
   },
   "outputs": [],
   "source": [
    "sess = tf.InteractiveSession()"
   ]
  },
  {
   "cell_type": "markdown",
   "metadata": {},
   "source": [
    "## 分别读取float和bytes格式的TFRecords"
   ]
  },
  {
   "cell_type": "code",
   "execution_count": 13,
   "metadata": {},
   "outputs": [],
   "source": [
    "#tfrecord_float_filename = \"test_float.tfrecord\"\n",
    "reader = tf.TFRecordReader()\n",
    "\n",
    "float_filename_queue = tf.train.string_input_producer([tfrecord_float_filename])\n",
    "float_key,float_value = reader.read(float_filename_queue)\n",
    "\n",
    "bytes_filename_queue = tf.train.string_input_producer([tfrecord_bytes_filename])\n",
    "bytes_key,bytes_value = reader.read(bytes_filename_queue)\n",
    "\n",
    "float_example = tf.parse_single_example(float_value,\n",
    "                    features={\"image\":tf.FixedLenFeature([2,2],tf.float32),\n",
    "                              \"label\":tf.FixedLenFeature([],tf.int64)})\n",
    "\n",
    "bytes_example = tf.parse_single_example(bytes_value,\n",
    "                    features={\"image\":tf.FixedLenFeature([],tf.string),\n",
    "                              \"label\":tf.FixedLenFeature([],tf.int64)})\n",
    "coord = tf.train.Coordinator()\n",
    "threads = tf.train.start_queue_runners(coord=coord)\n"
   ]
  },
  {
   "cell_type": "code",
   "execution_count": 14,
   "metadata": {
    "scrolled": true
   },
   "outputs": [
    {
     "name": "stdout",
     "output_type": "stream",
     "text": [
      "{'image': array([[ 1.,  2.],\n",
      "       [ 3.,  4.]], dtype=float32), 'label': 4}\n",
      "{'image': b'\\x00\\x00\\x00\\x00\\x00\\x00\\xf0?\\x00\\x00\\x00\\x00\\x00\\x00\\x00@\\x00\\x00\\x00\\x00\\x00\\x00\\x08@\\x00\\x00\\x00\\x00\\x00\\x00\\x10@', 'label': 4}\n"
     ]
    }
   ],
   "source": [
    "float_example_val,bytes_example_val = sess.run([float_example,bytes_example])\n",
    "print(float_example_val)\n",
    "print(bytes_example_val)"
   ]
  },
  {
   "cell_type": "markdown",
   "metadata": {},
   "source": [
    "我们可以看出，如果我们之前将图片表示成bytes类型，那么解析出来也只有一个bytys字符串，此时我们可以使用decode_raw将bytes字符串转换成其他类型数据。"
   ]
  },
  {
   "cell_type": "code",
   "execution_count": 20,
   "metadata": {},
   "outputs": [],
   "source": [
    "image_reback = tf.decode_raw(bytes_example_val[\"image\"],tf.float64)\n",
    "image_reback = tf.reshape(image_reback,[2,2])"
   ]
  },
  {
   "cell_type": "code",
   "execution_count": 21,
   "metadata": {
    "scrolled": true
   },
   "outputs": [
    {
     "name": "stdout",
     "output_type": "stream",
     "text": [
      "[array([[ 1.,  2.],\n",
      "       [ 3.,  4.]])]\n"
     ]
    }
   ],
   "source": [
    "image_reback_val = sess.run([image_reback])\n",
    "print(image_reback_val)"
   ]
  },
  {
   "cell_type": "code",
   "execution_count": 22,
   "metadata": {
    "collapsed": true
   },
   "outputs": [],
   "source": [
    "my_example = tf.train.Example(features=tf.train.Features(feature={\n",
    "    'index_0': tf.train.Feature(int64_list=tf.train.Int64List(value=[0, 1, 2])),\n",
    "    'index_1': tf.train.Feature(int64_list=tf.train.Int64List(value=[5, 1, 4])),\n",
    "    'values': tf.train.Feature(int64_list=tf.train.Int64List(value=[7, 5, 9]))\n",
    "}))\n",
    "my_example_str = my_example.SerializeToString()"
   ]
  },
  {
   "cell_type": "code",
   "execution_count": 26,
   "metadata": {},
   "outputs": [
    {
     "name": "stdout",
     "output_type": "stream",
     "text": [
      "WARNING:tensorflow:SparseFeature is a complicated feature config and should only be used after careful consideration of VarLenFeature.\n"
     ]
    },
    {
     "data": {
      "text/plain": [
       "{'sparse': SparseTensorValue(indices=array([[0, 5],\n",
       "       [1, 1],\n",
       "       [2, 4]], dtype=int64), values=array([7, 5, 9], dtype=int64), dense_shape=array([4, 6], dtype=int64))}"
      ]
     },
     "execution_count": 26,
     "metadata": {},
     "output_type": "execute_result"
    }
   ],
   "source": [
    "my_example_features = {'sparse': tf.SparseFeature(index_key=['index_0', 'index_1'],\n",
    "                                                  value_key='values',\n",
    "                                                  dtype=tf.int64,\n",
    "                                                  size=[4, 6])}\n",
    "serialized = tf.placeholder(tf.string)\n",
    "parsed = tf.parse_single_example(serialized, features=my_example_features)\n",
    "sess.run(parsed, feed_dict={serialized: my_example_str})"
   ]
  },
  {
   "cell_type": "code",
   "execution_count": null,
   "metadata": {
    "collapsed": true
   },
   "outputs": [],
   "source": []
  }
 ],
 "metadata": {
  "kernelspec": {
   "display_name": "Python 3",
   "language": "python",
   "name": "python3"
  },
  "language_info": {
   "codemirror_mode": {
    "name": "ipython",
    "version": 3
   },
   "file_extension": ".py",
   "mimetype": "text/x-python",
   "name": "python",
   "nbconvert_exporter": "python",
   "pygments_lexer": "ipython3",
   "version": "3.6.1"
  }
 },
 "nbformat": 4,
 "nbformat_minor": 2
}
