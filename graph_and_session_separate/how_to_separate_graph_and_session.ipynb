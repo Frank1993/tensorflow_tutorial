{
 "cells": [
  {
   "cell_type": "markdown",
   "metadata": {},
   "source": [
    "# How to seperate graph and session\n",
    "\n",
    "我们在使用tensorflow的时候，需要先将整个计算流程用一个graph来表示，之后用session来进行实际计算。所以大部分的tensorflow的代码，graph和session都是写在一个函数里面的。但是为了将整个程序模块化，我们可能需要将整个graph拆分成很多个不同的模块，同时和session分离。\n",
    "\n",
    "比如我们可以用类来表示一个模型，其中一个方法专门用来构建graph，另外一个方法用来执行一个session。\n",
    "首先我们来看一下一个错误的class 代码："
   ]
  },
  {
   "cell_type": "markdown",
   "metadata": {},
   "source": [
    "```python\n",
    "from __future__ import division\n",
    "from __future__ import absolute_import\n",
    "from __future__ import print_function\n",
    "\n",
    "import tensorflow as tf\n",
    "\n",
    "import numpy as np\n",
    "\n",
    "\n",
    "class DataAgent(object):\n",
    "    \"\"\"docstring for DataAgent\"\"\"\n",
    "    def __init__(self):\n",
    "        super(DataAgent, self).__init__()\n",
    "        self.getData()\n",
    "    def getData(self):\n",
    "        self.X = np.arange(0,100,0.001)\n",
    "\n",
    "        self.y = 2*self.X*self.X + self.X + 0.5\n",
    "\n",
    "        self.X = np.hstack((self.X.reshape(-1,1),np.reshape(self.X*self.X,[-1,1])))\n",
    "        \n",
    "\n",
    "    def getBatch(self):\n",
    "        indices = np.random.choice(self.X.shape[0],20)\n",
    "\n",
    "        x =  self.X[indices,:]\n",
    "        \n",
    "        y = self.y[indices].reshape(-1,1)\n",
    "\n",
    "        return x,y\n",
    "        \n",
    "\n",
    "class TFGraph(object):\n",
    "    def __init__(self,dataAgent):\n",
    "        self.dataAgent = dataAgent\n",
    "        self.build_graph()\n",
    "\n",
    "    def add_placeholder(self):\n",
    "        self.batch = tf.placeholder(tf.float32,shape = [20,2])\n",
    "\n",
    "        self.label = tf.placeholder(tf.float32,shape = [20,1])\n",
    "\n",
    "    def build_graph(self):\n",
    "        \n",
    "        with graph.as_default():\n",
    "            self.add_placeholder()\n",
    "\n",
    "            self.W = tf.Variable(tf.random_normal([2,1],mean = 0.0,stddev = 1.0))\n",
    "\n",
    "            self.b = tf.Variable(tf.zeros(1))\n",
    "\n",
    "            y_pre = tf.matmul(self.batch,self.W) + self.b\n",
    "\n",
    "            self.loss = 0.5*tf.reduce_mean(tf.square(y_pre-self.label))\n",
    "\n",
    "            optimizer = tf.train.AdamOptimizer(0.075)\n",
    "\n",
    "            self.train_op = optimizer.minimize(self.loss)\n",
    "\n",
    "        \n",
    "\n",
    "    def train(self):\n",
    "        \n",
    "        init = tf.global_variables_initializer()\n",
    "\n",
    "        with tf.Session() as sess:\n",
    "            sess.run(init)\n",
    "            for i in range(10000):\n",
    "\n",
    "                batch,labels = self.dataAgent.getBatch()\n",
    "\n",
    "                loss,_=sess.run([self.loss,self.train_op],feed_dict = {self.batch:batch,self.label:labels})\n",
    "                if i % 1000 ==0:\n",
    "                    print(\"step:%s, loss:%s\"%(i,loss))\n",
    "\n",
    "             W,b = sess.run([self.W,self.b])\n",
    "\n",
    "             print(W)\n",
    "             print(b)\n",
    "\n",
    "\n",
    "if __name__ == \"__main__\":\n",
    "    da = DataAgent()\n",
    "    graph = TFGraph(da)\n",
    "    graph.train()\n",
    "\n",
    "```"
   ]
  },
  {
   "cell_type": "markdown",
   "metadata": {},
   "source": [
    "上面的代码会报错，因为在train()这个函数里面，从init开始，包括session部分实际上是在另外一个graph中，而并不是之前在build_graph()中所构建的graph。所以我们需要保存在build_graph()中所构建的graph，并且在train()中使用。"
   ]
  },
  {
   "cell_type": "code",
   "execution_count": 6,
   "metadata": {
    "collapsed": true
   },
   "outputs": [],
   "source": [
    "from __future__ import division\n",
    "from __future__ import absolute_import\n",
    "from __future__ import print_function\n",
    "\n",
    "import tensorflow as tf\n",
    "\n",
    "import numpy as np\n",
    "\n",
    "\n",
    "class DataAgent(object):\n",
    "    \"\"\"docstring for DataAgent\"\"\"\n",
    "    def __init__(self):\n",
    "        super(DataAgent, self).__init__()\n",
    "        self.getData()\n",
    "    def getData(self):\n",
    "        self.X = np.arange(0,100,0.001)\n",
    "\n",
    "        self.y = 2*self.X*self.X + self.X + 0.5\n",
    "\n",
    "        self.X = np.hstack((self.X.reshape(-1,1),np.reshape(self.X*self.X,[-1,1])))\n",
    "        \n",
    "\n",
    "    def getBatch(self):\n",
    "        indices = np.random.choice(self.X.shape[0],20)\n",
    "\n",
    "        x =  self.X[indices,:]\n",
    "        \n",
    "        y = self.y[indices].reshape(-1,1)\n",
    "\n",
    "        return x,y\n",
    "        \n",
    "\n",
    "class TFGraph(object):\n",
    "    def __init__(self,dataAgent):\n",
    "        self.dataAgent = dataAgent\n",
    "        self.graph = self.build_graph()\n",
    "\n",
    "    def add_placeholder(self):\n",
    "        self.batch = tf.placeholder(tf.float32,shape = [20,2])\n",
    "\n",
    "        self.label = tf.placeholder(tf.float32,shape = [20,1])\n",
    "\n",
    "    def build_graph(self):\n",
    "        graph = tf.Graph()\n",
    "        with graph.as_default():\n",
    "            self.add_placeholder()\n",
    "\n",
    "            self.W = tf.Variable(tf.random_normal([2,1],mean = 0.0,stddev = 1.0))\n",
    "\n",
    "            self.b = tf.Variable(tf.zeros(1))\n",
    "\n",
    "            y_pre = tf.matmul(self.batch,self.W) + self.b\n",
    "\n",
    "            self.loss = 0.5*tf.reduce_mean(tf.square(y_pre-self.label))\n",
    "\n",
    "            optimizer = tf.train.AdamOptimizer(0.075)\n",
    "\n",
    "            self.train_op = optimizer.minimize(self.loss)\n",
    "\n",
    "        return graph\n",
    "\n",
    "    def train(self):\n",
    "        with self.graph.as_default():\n",
    "            init = tf.global_variables_initializer()\n",
    "\n",
    "            with tf.Session() as sess:\n",
    "                sess.run(init)\n",
    "                for i in range(20000):\n",
    "\n",
    "                    batch,labels = self.dataAgent.getBatch()\n",
    "\n",
    "                    loss,_=sess.run([self.loss,self.train_op],feed_dict = {self.batch:batch,self.label:labels})\n",
    "                    if i % 1000 ==0:\n",
    "                        print(\"step:%s, loss:%s\"%(i,loss))\n",
    "\n",
    "                W,b = sess.run([self.W,self.b])\n",
    "\n",
    "                print(W)\n",
    "                print(b)\n",
    "\n",
    "\n"
   ]
  },
  {
   "cell_type": "code",
   "execution_count": 7,
   "metadata": {
    "collapsed": false
   },
   "outputs": [
    {
     "name": "stdout",
     "output_type": "stream",
     "text": [
      "step:0, loss:1.48049e+07\n",
      "step:1000, loss:117.261\n",
      "step:2000, loss:7.27961\n",
      "step:3000, loss:0.635055\n",
      "step:4000, loss:0.394717\n",
      "step:5000, loss:0.399164\n",
      "step:6000, loss:52.0795\n",
      "step:7000, loss:18.4076\n",
      "step:8000, loss:2.94556\n",
      "step:9000, loss:0.000826972\n",
      "step:10000, loss:0.00168912\n",
      "step:11000, loss:0.000405265\n",
      "step:12000, loss:0.000216781\n",
      "step:13000, loss:5.57338e-05\n",
      "step:14000, loss:395.849\n",
      "step:15000, loss:0.00337271\n",
      "step:16000, loss:0.0139757\n",
      "step:17000, loss:0.0774716\n",
      "step:18000, loss:0.000732884\n",
      "step:19000, loss:0.45353\n",
      "[[ 1.04096508]\n",
      " [ 1.99983835]]\n",
      "[ 0.60853249]\n"
     ]
    }
   ],
   "source": [
    "da = DataAgent()\n",
    "graph = TFGraph(da)\n",
    "graph.train()"
   ]
  },
  {
   "cell_type": "code",
   "execution_count": 8,
   "metadata": {
    "collapsed": true
   },
   "outputs": [],
   "source": [
    "from matplotlib import pyplot as plt\n",
    "%matplotlib inline"
   ]
  },
  {
   "cell_type": "code",
   "execution_count": 9,
   "metadata": {
    "collapsed": true
   },
   "outputs": [],
   "source": [
    "x = np.arange(0,100,0.001)\n",
    "y = 2*x*x + x + 0.5\n",
    "\n",
    "y_pred = 1.99983835 * x*x + 1.04096508*x + 0.60853249"
   ]
  },
  {
   "cell_type": "code",
   "execution_count": 14,
   "metadata": {
    "collapsed": false
   },
   "outputs": [
    {
     "data": {
      "text/plain": [
       "[<matplotlib.lines.Line2D at 0x109f4c590>,\n",
       " <matplotlib.lines.Line2D at 0x109f4c750>]"
      ]
     },
     "execution_count": 14,
     "metadata": {},
     "output_type": "execute_result"
    },
    {
     "data": {
      "image/png": "[encoded data removed]",
      "text/plain": [
       "<matplotlib.figure.Figure at 0x10a227f50>"
      ]
     },
     "metadata": {},
     "output_type": "display_data"
    }
   ],
   "source": [
    "plt.plot(x,y,'b',x,y_pred,'r')"
   ]
  },
  {
   "cell_type": "code",
   "execution_count": null,
   "metadata": {
    "collapsed": true
   },
   "outputs": [],
   "source": []
  }
 ],
 "metadata": {
  "kernelspec": {
   "display_name": "Python 2",
   "language": "python",
   "name": "python2"
  },
  "language_info": {
   "codemirror_mode": {
    "name": "ipython",
    "version": 2
   },
   "file_extension": ".py",
   "mimetype": "text/x-python",
   "name": "python",
   "nbconvert_exporter": "python",
   "pygments_lexer": "ipython2",
   "version": "2.7.10"
  }
 },
 "nbformat": 4,
 "nbformat_minor": 0
}
